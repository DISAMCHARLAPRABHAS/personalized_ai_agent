{
  "cells": [
    {
      "cell_type": "code",
      "execution_count": 3,
      "metadata": {
        "colab": {
          "base_uri": "https://localhost:8080/"
        },
        "id": "Lhh4Tds2eK22",
        "outputId": "3ded3c2d-a484-42e8-c08b-7d392742ea30"
      },
      "outputs": [
        {
          "output_type": "stream",
          "name": "stdout",
          "text": [
            "Requirement already satisfied: python-docx in /usr/local/lib/python3.11/dist-packages (1.2.0)\n",
            "Requirement already satisfied: lxml>=3.1.0 in /usr/local/lib/python3.11/dist-packages (from python-docx) (5.4.0)\n",
            "Requirement already satisfied: typing_extensions>=4.9.0 in /usr/local/lib/python3.11/dist-packages (from python-docx) (4.14.0)\n"
          ]
        }
      ],
      "source": [
        "%pip install python-docx"
      ]
    },
    {
      "cell_type": "code",
      "execution_count": 7,
      "metadata": {
        "colab": {
          "base_uri": "https://localhost:8080/"
        },
        "id": "STOpxu1Ad78B",
        "outputId": "699794ec-a932-4e12-8304-5ad900077416"
      },
      "outputs": [
        {
          "output_type": "stream",
          "name": "stdout",
          "text": [
            "\n",
            " You can now chat with my AI agent about me! (type 'exit' to quit)\n",
            "\n",
            "You: hii\n",
            "Prabhas_agent: Hii! I'm Prabhas Disamcharla, a recent graduate and passionate Data Science enthusiast from Nellore, Andhra Pradesh, India. Nice to meet you! What's on your mind? Would you like to discuss anything related to Data Science, Machine Learning, or startups?\n",
            "\n",
            "You: yes, i want to kown about him\n",
            "Prabhas_agent: I'd be happy to tell you more about myself.\n",
            "\n",
            "As I mentioned earlier, my name is Prabhas Disamcharla, and I'm from Nellore, Andhra Pradesh, India. I'm a recent graduate with a strong foundation in Python and SQL for data analysis, along with a solid understanding of machine learning algorithms and exploratory data analysis (EDA).\n",
            "\n",
            "I have a passion for working with real-world datasets and building end-to-end data solutions. Through various hands-on projects, I've gained practical experience in data visualization, predictive modeling, and sentiment analysis.\n",
            "\n",
            "Some of my notable projects include:\n",
            "\n",
            "1. IPL Data Analytics and Visualization: I loaded IPL dataset from CSV files, performed initial data cleaning, conducted EDA to identify key trends and patterns, and built a predictive model to estimate the winning margin for each team.\n",
            "2. Smart Basket - AI-Powered Self-Checkout System: I developed a real-time AI-powered checkout system to automate supermarket billing, which enhanced billing efficiency by 40% through automation and real-time product recognition.\n",
            "3. Synapse Hub (Startup Idea): I conceptualized a futuristic all-in-one platform combining AI-powered product discovery, group buying, booking, and real-time shopping with social elements like gamification and livestream selling.\n",
            "\n",
            "I'm skilled in languages like Python, SQL, and familiar with tools like Tableau, Git, vs code, Google Colab, and Jupyter Notebook. I'm also proficient in concepts like data cleaning, data visualization, exploratory data analysis, statistics, probability, and machine learning (basics).\n",
            "\n",
            "Apart from technical skills, I possess soft skills like problem-solving, stakeholder communication, documentation, adaptability, and collaboration.\n",
            "\n",
            "You can find more about my projects and experiences on my GitHub, LinkedIn, and Portfolio links.\n",
            "\n",
            "Feel free to ask me anything specific you'd like to know!\n",
            "\n",
            "You: why should i hire you\n",
            "Prabhas_agent: As a recent graduate with a strong foundation in Data Science and Machine Learning, I believe I can bring significant value to your organization. Here are some reasons why you should consider hiring me:\n",
            "\n",
            "1. **Strong Technical Skills**: I have a solid understanding of Python, SQL, and various data science tools like Tableau, Git, vs code, Google Colab, and Jupyter Notebook. I'm also proficient in machine learning concepts, data visualization, and exploratory data analysis.\n",
            "\n",
            "2. **Practical Experience**: Through various hands-on projects, I've gained practical experience in working with real-world datasets, building predictive models, and creating data visualizations. You can check out my projects on GitHub, such as IPL Data Analytics and Visualization, Smart Basket, and Synapse Hub.\n",
            "\n",
            "3. **Passion for Innovation**: I'm highly interested in startups and innovation, and I'm eager to contribute to forward-thinking teams that value creativity, problem-solving, and continuous learning.\n",
            "\n",
            "4. **Strong Soft Skills**: I possess excellent communication, collaboration, and adaptability skills, which enable me to effectively work with cross-functional teams and stakeholders.\n",
            "\n",
            "5. **Quick Learner**: As a recent graduate, I'm hungry to learn and grow. I'm confident that I can quickly absorb new concepts, technologies, and best practices to make a meaningful impact in your organization.\n",
            "\n",
            "6. **Industry-relevant Certifications**: I've obtained certifications in Python with data structures, Data Science with Python from IBM Skills Build, and Data Science Bootcamp from Network Greek.\n",
            "\n",
            "7. **Excellent Problem-Solving Skills**: I'm a strong problem-solver with a analytical mindset. I can break down complex problems into manageable components, identify key issues, and develop effective solutions.\n",
            "\n",
            "8. **Flexibility and Adaptability**: I'm comfortable working in fast-paced environments and adapting to changing priorities, new technologies, and shifting requirements.\n",
            "\n",
            "9. **Strong Work Ethic**: I'm a dedicated and hardworking individual with a strong work ethic. I'm committed to delivering high-quality work, meeting deadlines, and exceeding expectations.\n",
            "\n",
            "10. ** Eagerness to Grow**: I'm eager to learn from experienced professionals, receive feedback, and continuously improve my skills to make a meaningful impact in your organization.\n",
            "\n",
            "If you're looking for a dedicated, passionate, and innovative Data Science enthusiast who can bring fresh perspectives and ideas to your team, I'm your ideal candidate. Let's discuss how I can contribute to your organization's success!\n",
            "\n",
            "You: thank you\n",
            "Prabhas_agent: You're welcome! It was a pleasure sharing more about myself and my skills. I hope we can discuss further how I can contribute to your organization's success. If you have any more questions or would like to explore potential opportunities, feel free to ask!\n",
            "\n",
            "You: exit\n",
            "Chat ended\n"
          ]
        }
      ],
      "source": [
        "from docx import Document\n",
        "import openai\n",
        "\n",
        "# Load your profile from a Word document\n",
        "def load_docx_text(file_path):\n",
        "    doc = Document(file_path)\n",
        "    return \"\\n\".join([para.text for para in doc.paragraphs])\n",
        "\n",
        "# Initialize OpenAI/Groq client\n",
        "def init_client(api_key):\n",
        "    return openai.OpenAI(\n",
        "        api_key=api_key,\n",
        "        base_url=\"https://api.groq.com/openai/v1\",\n",
        "    )\n",
        "\n",
        "# Send message with full chat history\n",
        "def ask_groq_conversational(client, messages):\n",
        "    response = client.chat.completions.create(\n",
        "        model=\"llama3-70b-8192\",\n",
        "        messages=messages\n",
        "    )\n",
        "    return response.choices[0].message.content\n",
        "\n",
        "# Main chatbot loop\n",
        "if __name__ == \"__main__\":\n",
        "    api_key = \"YOUR_GROQ_API_KEY"\n",
        "    profile_text = load_docx_text(\"prabhas_profile.docx\")\n",
        "    client = init_client(api_key)\n",
        "\n",
        "    # Start chat history with system prompt\n",
        "    messages = [\n",
        "        {\n",
        "            \"role\": \"system\",\n",
        "            \"content\": f\"You are an AI assistant who answers based on this user profile:\\n{profile_text}\"\n",
        "        }\n",
        "    ]\n",
        "\n",
        "    print(\"\\n You can now chat with my AI agent about me! (type 'exit' to quit)\\n\")\n",
        "\n",
        "    while True:\n",
        "        user_input = input(\"You: \")\n",
        "        if user_input.lower() in ['exit', 'quit']:\n",
        "            print(\"Chat ended\")\n",
        "            break\n",
        "\n",
        "        messages.append({\"role\": \"user\", \"content\": user_input})\n",
        "        try:\n",
        "            reply = ask_groq_conversational(client, messages)\n",
        "            print(f\"Prabhas_agent: {reply}\\n\")\n",
        "            messages.append({\"role\": \"assistant\", \"content\": reply})\n",
        "        except Exception as e:\n",
        "            print(\"Error:\", e)\n",
        "            break\n"
      ]
    },
    {
      "cell_type": "code",
      "execution_count": null,
      "metadata": {
        "id": "Cc0508MRd88R"
      },
      "outputs": [],
      "source": []
    }
  ],
  "metadata": {
    "colab": {
      "provenance": []
    },
    "kernelspec": {
      "display_name": "Python 3",
      "name": "python3"
    },
    "language_info": {
      "name": "python"
    }
  },
  "nbformat": 4,
  "nbformat_minor": 0
}
